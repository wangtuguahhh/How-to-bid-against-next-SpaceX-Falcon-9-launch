{
 "cells": [
  {
   "cell_type": "markdown",
   "metadata": {},
   "source": [
    "# **SpaceX  Falcon 9 First Stage Landing Prediction**\n"
   ]
  },
  {
   "cell_type": "markdown",
   "metadata": {},
   "source": [
    "# 2. Web Scraping Launch Records from Wikipedia\n",
    "- Extract Falcon 9 launch records from a HTML table from [Wikipedia](https://en.wikipedia.org/wiki/List_of_Falcon_9_and_Falcon_Heavy_launches)\n",
    "- Parse the table and convert it into a Pandas data frame for\n",
    "  - Exploratory Data Analysis\n",
    "  - Machine Learning Model Building\n"
   ]
  },
  {
   "cell_type": "markdown",
   "metadata": {},
   "source": [
    "The Wikipedia page contains launch records about different Falcon 9 rockets and Falcon Heavy rockets."
   ]
  },
  {
   "cell_type": "markdown",
   "metadata": {},
   "source": [
    "![](https://upload.wikimedia.org/wikipedia/commons/f/f7/Falcon_rocket_family6.svg)\n"
   ]
  },
  {
   "cell_type": "markdown",
   "metadata": {},
   "source": [
    "The launch records are stored in a HTML table like below:\n"
   ]
  },
  {
   "cell_type": "markdown",
   "metadata": {},
   "source": [
    "![](https://cf-courses-data.s3.us.cloud-object-storage.appdomain.cloud/IBM-DS0321EN-SkillsNetwork/labs/module_1_L2/images/falcon9-launches-wiki.png)\n"
   ]
  },
  {
   "cell_type": "markdown",
   "metadata": {
    "tags": []
   },
   "source": [
    "## 2.1. Import required libraries\n"
   ]
  },
  {
   "cell_type": "code",
   "execution_count": 1,
   "metadata": {
    "tags": []
   },
   "outputs": [
    {
     "name": "stdout",
     "output_type": "stream",
     "text": [
      "Requirement already satisfied: beautifulsoup4 in c:\\users\\wfei2\\anaconda3\\lib\\site-packages (4.11.1)\n",
      "Requirement already satisfied: soupsieve>1.2 in c:\\users\\wfei2\\anaconda3\\lib\\site-packages (from beautifulsoup4) (2.3.2.post1)\n",
      "Requirement already satisfied: requests in c:\\users\\wfei2\\anaconda3\\lib\\site-packages (2.28.1)\n",
      "Requirement already satisfied: charset-normalizer<3,>=2 in c:\\users\\wfei2\\anaconda3\\lib\\site-packages (from requests) (2.0.4)\n",
      "Requirement already satisfied: idna<4,>=2.5 in c:\\users\\wfei2\\anaconda3\\lib\\site-packages (from requests) (3.4)\n",
      "Requirement already satisfied: certifi>=2017.4.17 in c:\\users\\wfei2\\anaconda3\\lib\\site-packages (from requests) (2022.12.7)\n",
      "Requirement already satisfied: urllib3<1.27,>=1.21.1 in c:\\users\\wfei2\\anaconda3\\lib\\site-packages (from requests) (1.26.14)\n"
     ]
    }
   ],
   "source": [
    "!pip3 install beautifulsoup4\n",
    "!pip3 install requests"
   ]
  },
  {
   "cell_type": "code",
   "execution_count": 2,
   "metadata": {
    "tags": []
   },
   "outputs": [],
   "source": [
    "import sys\n",
    "import requests\n",
    "from bs4 import BeautifulSoup\n",
    "import re\n",
    "import unicodedata\n",
    "import pandas as pd"
   ]
  },
  {
   "cell_type": "markdown",
   "metadata": {},
   "source": [
    "## 2.2. Send Request and Parse with BeautifulSoup"
   ]
  },
  {
   "cell_type": "code",
   "execution_count": 4,
   "metadata": {
    "tags": []
   },
   "outputs": [],
   "source": [
    "# wiki split the launch records to two pages, one for before 2019 and one for after 2019\n",
    "wiki_url_1 = \"https://en.wikipedia.org/wiki/List_of_Falcon_9_and_Falcon_Heavy_launches_(2010%E2%80%932019)\"\n",
    "wiki_url_2 = \"https://en.wikipedia.org/wiki/List_of_Falcon_9_and_Falcon_Heavy_launches\""
   ]
  },
  {
   "cell_type": "code",
   "execution_count": 5,
   "metadata": {
    "tags": []
   },
   "outputs": [
    {
     "data": {
      "text/plain": [
       "'<!DOCTYPE html>\\n<html class=\"client-nojs vector-feature-language-in-header-enabled vector-feature-language-in-main-page-header-disabled vector-feature-sticky-header-disabled vector-feature-page-tools-'"
      ]
     },
     "execution_count": 5,
     "metadata": {},
     "output_type": "execute_result"
    }
   ],
   "source": [
    "# use requests.get() method to request the HTML page\n",
    "# assign the response to a object\n",
    "response_1 = requests.get(wiki_url_1).text\n",
    "response_1[0:200]"
   ]
  },
  {
   "cell_type": "code",
   "execution_count": 6,
   "metadata": {},
   "outputs": [
    {
     "data": {
      "text/plain": [
       "'<!DOCTYPE html>\\n<html class=\"client-nojs vector-feature-language-in-header-enabled vector-feature-language-in-main-page-header-disabled vector-feature-sticky-header-disabled vector-feature-page-tools-'"
      ]
     },
     "execution_count": 6,
     "metadata": {},
     "output_type": "execute_result"
    }
   ],
   "source": [
    "response_2 = requests.get(wiki_url_2).text\n",
    "response_2[0:200]"
   ]
  },
  {
   "cell_type": "code",
   "execution_count": 7,
   "metadata": {
    "tags": []
   },
   "outputs": [],
   "source": [
    "# Use BeautifulSoup() to create a BeautifulSoup object from a response text content\n",
    "soup_1 = BeautifulSoup(response_1, 'html.parser')\n",
    "soup_2 = BeautifulSoup(response_2, 'html.parser')"
   ]
  },
  {
   "cell_type": "code",
   "execution_count": 8,
   "metadata": {
    "tags": []
   },
   "outputs": [
    {
     "name": "stdout",
     "output_type": "stream",
     "text": [
      "<title>List of Falcon 9 and Falcon Heavy launches (2010–2019) - Wikipedia</title>\n",
      "<title>List of Falcon 9 and Falcon Heavy launches - Wikipedia</title>\n"
     ]
    }
   ],
   "source": [
    "# Use soup.title to verify if BeautifulSoup work properly or not\n",
    "print(soup_1.title)\n",
    "print(soup_2.title)"
   ]
  },
  {
   "cell_type": "markdown",
   "metadata": {},
   "source": [
    "## 2.3. Extract Column Names from the HTML Table Header\n"
   ]
  },
  {
   "cell_type": "markdown",
   "metadata": {},
   "source": [
    "### 2.3.1. Find the desired table with launch records\n"
   ]
  },
  {
   "cell_type": "code",
   "execution_count": 17,
   "metadata": {
    "tags": []
   },
   "outputs": [
    {
     "data": {
      "text/plain": [
       "<tr>\n",
       "<th scope=\"col\">Flight No.\n",
       "</th>\n",
       "<th scope=\"col\">Date and<br/>time (<a href=\"/wiki/Coordinated_Universal_Time\" title=\"Coordinated Universal Time\">UTC</a>)\n",
       "</th>\n",
       "<th scope=\"col\"><a href=\"/wiki/List_of_Falcon_9_first-stage_boosters\" title=\"List of Falcon 9 first-stage boosters\">Version,<br/>Booster</a> <sup class=\"reference\" id=\"cite_ref-booster_5-0\"><a href=\"#cite_note-booster-5\">[a]</a></sup>\n",
       "</th>\n",
       "<th scope=\"col\">Launch site\n",
       "</th>\n",
       "<th scope=\"col\">Payload<sup class=\"reference\" id=\"cite_ref-Dragon_6-0\"><a href=\"#cite_note-Dragon-6\">[b]</a></sup>\n",
       "</th>\n",
       "<th scope=\"col\">Payload mass\n",
       "</th>\n",
       "<th scope=\"col\">Orbit\n",
       "</th>\n",
       "<th scope=\"col\">Customer\n",
       "</th>\n",
       "<th scope=\"col\">Launch<br/>outcome\n",
       "</th>\n",
       "<th scope=\"col\"><a href=\"/wiki/Falcon_9_first-stage_landing_tests\" title=\"Falcon 9 first-stage landing tests\">Booster<br/>landing</a>\n",
       "</th></tr>"
      ]
     },
     "execution_count": 17,
     "metadata": {},
     "output_type": "execute_result"
    }
   ],
   "source": [
    "# Use the find_all function in the BeautifulSoup object, with element type `table`\n",
    "# Assign the result to a list called `html_tables`\n",
    "html_tables_1 = soup_1.find_all('tr')\n",
    "\n",
    "# after several tries, the 4th table contains launch records needed\n",
    "html_tables_1[3]"
   ]
  },
  {
   "cell_type": "code",
   "execution_count": 21,
   "metadata": {},
   "outputs": [
    {
     "data": {
      "text/plain": [
       "<tr>\n",
       "<th scope=\"col\">Flight No.\n",
       "</th>\n",
       "<th scope=\"col\">Date and<br/>time (<a href=\"/wiki/Coordinated_Universal_Time\" title=\"Coordinated Universal Time\">UTC</a>)\n",
       "</th>\n",
       "<th scope=\"col\"><a href=\"/wiki/List_of_Falcon_9_first-stage_boosters\" title=\"List of Falcon 9 first-stage boosters\">Version,<br/>booster</a><sup class=\"reference\" id=\"cite_ref-booster_17-0\"><a href=\"#cite_note-booster-17\">[b]</a></sup>\n",
       "</th>\n",
       "<th scope=\"col\">Launch<br/>site\n",
       "</th>\n",
       "<th scope=\"col\">Payload<sup class=\"reference\" id=\"cite_ref-Dragon_18-0\"><a href=\"#cite_note-Dragon-18\">[c]</a></sup>\n",
       "</th>\n",
       "<th scope=\"col\">Payload mass\n",
       "</th>\n",
       "<th scope=\"col\">Orbit\n",
       "</th>\n",
       "<th scope=\"col\">Customer\n",
       "</th>\n",
       "<th scope=\"col\">Launch<br/>outcome\n",
       "</th>\n",
       "<th scope=\"col\"><a href=\"/wiki/Falcon_9_first-stage_landing_tests\" title=\"Falcon 9 first-stage landing tests\">Booster<br/>landing</a>\n",
       "</th></tr>"
      ]
     },
     "execution_count": 21,
     "metadata": {},
     "output_type": "execute_result"
    }
   ],
   "source": [
    "# Use the find_all function in the BeautifulSoup object, with element type `table`\n",
    "# Assign the result to a list called `html_tables`\n",
    "html_tables_2 = soup_2.find_all('tr')\n",
    "\n",
    "# after several tries, the 4th table contains launch records needed\n",
    "html_tables_2[3]"
   ]
  },
  {
   "cell_type": "code",
   "execution_count": 22,
   "metadata": {
    "tags": []
   },
   "outputs": [],
   "source": [
    "# Let's print the third table and check its content\n",
    "first_launch_table = html_tables_1[3]\n",
    "second_launch_table = html_tables_2[3]"
   ]
  },
  {
   "cell_type": "markdown",
   "metadata": {},
   "source": [
    "**Note:**\n",
    "* The columns names are embedded in the table header elements `<th>`.\n",
    "* Need to iterate through `<th>` and extract column names.\n"
   ]
  },
  {
   "cell_type": "markdown",
   "metadata": {},
   "source": [
    "### 2.3.2. Extract column names of desired tables"
   ]
  },
  {
   "cell_type": "code",
   "execution_count": 29,
   "metadata": {},
   "outputs": [],
   "source": [
    "# define a function to help with column name extraction\n",
    "def extract_column_from_header(row):\n",
    "    \n",
    "    if (row.br):\n",
    "        row.br.extract()\n",
    "    if row.a:\n",
    "        row.a.extract()\n",
    "    if row.sup:\n",
    "        row.sup.extract()\n",
    "        \n",
    "    colunm_name = ' '.join(row.contents)\n",
    "    \n",
    "    # Filter the digit and empty names\n",
    "    if not(colunm_name.strip().isdigit()):\n",
    "        colunm_name = colunm_name.strip()\n",
    "        return colunm_name    "
   ]
  },
  {
   "cell_type": "code",
   "execution_count": 26,
   "metadata": {
    "tags": []
   },
   "outputs": [
    {
     "name": "stdout",
     "output_type": "stream",
     "text": [
      "0 <th scope=\"col\">Flight No.\n",
      "</th>\n",
      "Flight No.\n",
      "1 <th scope=\"col\">Date andtime ()\n",
      "</th>\n",
      "Date and time ( )\n",
      "2 <th scope=\"col\"> \n",
      "</th>\n",
      "\n",
      "3 <th scope=\"col\">Launch site\n",
      "</th>\n",
      "Launch site\n",
      "4 <th scope=\"col\">Payload\n",
      "</th>\n",
      "Payload\n",
      "5 <th scope=\"col\">Payload mass\n",
      "</th>\n",
      "Payload mass\n",
      "6 <th scope=\"col\">Orbit\n",
      "</th>\n",
      "Orbit\n",
      "7 <th scope=\"col\">Customer\n",
      "</th>\n",
      "Customer\n",
      "8 <th scope=\"col\">Launchoutcome\n",
      "</th>\n",
      "Launch outcome\n",
      "9 <th scope=\"col\">\n",
      "</th>\n",
      "\n",
      "['Flight No.', 'Date and time ( )', 'Launch site', 'Payload', 'Payload mass', 'Orbit', 'Customer', 'Launch outcome']\n"
     ]
    }
   ],
   "source": [
    "column_names_1 = []\n",
    "\n",
    "for i, col in enumerate(first_launch_table.find_all('th')):\n",
    "    print(i, col)\n",
    "    header = extract_column_from_header(col)\n",
    "    print(header)\n",
    "    if header != '' and len(header) > 0:\n",
    "        column_names_1.append(header)\n",
    "\n",
    "print(column_names_1)"
   ]
  },
  {
   "cell_type": "code",
   "execution_count": 27,
   "metadata": {},
   "outputs": [
    {
     "name": "stdout",
     "output_type": "stream",
     "text": [
      "0 <th scope=\"col\">Flight No.\n",
      "</th>\n",
      "Flight No.\n",
      "1 <th scope=\"col\">Date and<br/>time (<a href=\"/wiki/Coordinated_Universal_Time\" title=\"Coordinated Universal Time\">UTC</a>)\n",
      "</th>\n",
      "Date and time ( )\n",
      "2 <th scope=\"col\"><a href=\"/wiki/List_of_Falcon_9_first-stage_boosters\" title=\"List of Falcon 9 first-stage boosters\">Version,<br/>booster</a><sup class=\"reference\" id=\"cite_ref-booster_17-0\"><a href=\"#cite_note-booster-17\">[b]</a></sup>\n",
      "</th>\n",
      "\n",
      "3 <th scope=\"col\">Launch<br/>site\n",
      "</th>\n",
      "Launch site\n",
      "4 <th scope=\"col\">Payload<sup class=\"reference\" id=\"cite_ref-Dragon_18-0\"><a href=\"#cite_note-Dragon-18\">[c]</a></sup>\n",
      "</th>\n",
      "Payload\n",
      "5 <th scope=\"col\">Payload mass\n",
      "</th>\n",
      "Payload mass\n",
      "6 <th scope=\"col\">Orbit\n",
      "</th>\n",
      "Orbit\n",
      "7 <th scope=\"col\">Customer\n",
      "</th>\n",
      "Customer\n",
      "8 <th scope=\"col\">Launch<br/>outcome\n",
      "</th>\n",
      "Launch outcome\n",
      "9 <th scope=\"col\"><a href=\"/wiki/Falcon_9_first-stage_landing_tests\" title=\"Falcon 9 first-stage landing tests\">Booster<br/>landing</a>\n",
      "</th>\n",
      "\n",
      "['Flight No.', 'Date and time ( )', 'Launch site', 'Payload', 'Payload mass', 'Orbit', 'Customer', 'Launch outcome']\n"
     ]
    }
   ],
   "source": [
    "column_names_2 = []\n",
    "\n",
    "for i, col in enumerate(second_launch_table.find_all('th')):\n",
    "    print(i, col)\n",
    "    header = extract_column_from_header(col)\n",
    "    print(header)\n",
    "    if header != '' and len(header) > 0:\n",
    "        column_names_2.append(header)\n",
    "\n",
    "print(column_names_2)"
   ]
  },
  {
   "cell_type": "markdown",
   "metadata": {},
   "source": [
    "**Note:**\n",
    "Column names in the two tables are the same. "
   ]
  },
  {
   "cell_type": "markdown",
   "metadata": {},
   "source": [
    "## 2.4. Create Data Frame\n"
   ]
  },
  {
   "cell_type": "code",
   "execution_count": 106,
   "metadata": {
    "tags": []
   },
   "outputs": [
    {
     "data": {
      "text/plain": [
       "{'Flight No.': [],\n",
       " 'Launch site': [],\n",
       " 'Payload': [],\n",
       " 'Payload mass': [],\n",
       " 'Orbit': [],\n",
       " 'Customer': [],\n",
       " 'Launch outcome': [],\n",
       " 'Version Booster': [],\n",
       " 'Booster landing': [],\n",
       " 'Date': [],\n",
       " 'Time': []}"
      ]
     },
     "execution_count": 106,
     "metadata": {},
     "output_type": "execute_result"
    }
   ],
   "source": [
    "# create dictionary with keys from the extracted columns names\n",
    "launch_dict = dict.fromkeys(column_names_1)\n",
    "\n",
    "# remove an irrelvant column\n",
    "del launch_dict['Date and time ( )']\n",
    "\n",
    "# initial the launch_dict with empty lists\n",
    "launch_dict['Flight No.'] = []\n",
    "launch_dict['Launch site'] = []\n",
    "launch_dict['Payload'] = []\n",
    "launch_dict['Payload mass'] = []\n",
    "launch_dict['Orbit'] = []\n",
    "launch_dict['Customer'] = []\n",
    "launch_dict['Launch outcome'] = []\n",
    "\n",
    "# Added new columns\n",
    "launch_dict['Version Booster']=[]\n",
    "launch_dict['Booster landing']=[]\n",
    "launch_dict['Date']=[]\n",
    "launch_dict['Time']=[]\n",
    "\n",
    "launch_dict"
   ]
  },
  {
   "cell_type": "code",
   "execution_count": 107,
   "metadata": {
    "tags": []
   },
   "outputs": [],
   "source": [
    "# define some helper functions to help extract info from HTML table\n",
    "def date_time(table_cells):\n",
    "    return [data_time.strip() for data_time in list(table_cells.strings)][0:2]\n",
    "\n",
    "def booster_version(table_cells):\n",
    "    out=''.join([booster_version for i,booster_version in enumerate( table_cells.strings) if i%2==0][0:-1])\n",
    "    return out\n",
    "\n",
    "def landing_status(table_cells):\n",
    "    out=[i for i in table_cells.strings][0]\n",
    "    return out\n",
    "def get_mass(table_cells):\n",
    "    mass=unicodedata.normalize(\"NFKD\", table_cells.text).strip()\n",
    "    if mass:\n",
    "        mass.find(\"kg\")\n",
    "        new_mass=mass[0:mass.find(\"kg\")+2]\n",
    "    else:\n",
    "        new_mass=0\n",
    "    return new_mass"
   ]
  },
  {
   "cell_type": "code",
   "execution_count": 108,
   "metadata": {
    "tags": []
   },
   "outputs": [],
   "source": [
    "import numpy as np\n",
    "\n",
    "# need to extract rows from table to fill up launch_dict\n",
    "extracted_row = 0\n",
    "\n",
    "#Extract each table \n",
    "for table_number, table in enumerate(soup_1.find_all('table', \"wikitable plainrowheaders collapsible\")):\n",
    "\n",
    "    # get table row \n",
    "    for rows in table.find_all(\"tr\"):\n",
    "        \n",
    "        #check to see if first table heading is as number corresponding to launch \n",
    "        if rows.th:\n",
    "            if rows.th.string:\n",
    "                flight_number = rows.th.string.strip()\n",
    "                flag = flight_number.isdigit()\n",
    "        else:\n",
    "            flag = False\n",
    "\n",
    "        #get table element \n",
    "        row=rows.find_all('td')\n",
    "        \n",
    "        #if the first table heading is a launch number \n",
    "        if flag:\n",
    "            extracted_row += 1\n",
    "            \n",
    "            # Flight No.\n",
    "            launch_dict['Flight No.'].append(flight_number)\n",
    "            \n",
    "            # Date                        \n",
    "            datatimelist=date_time(row[0])\n",
    "            date = datatimelist[0].strip(',')\n",
    "            launch_dict['Date'].append(date)\n",
    "                        \n",
    "            # Time\n",
    "            time = datatimelist[1]\n",
    "            launch_dict['Time'].append(time)\n",
    "                                      \n",
    "            # Booster version\n",
    "            bv=booster_version(row[1])\n",
    "            if not(bv):\n",
    "                bv=row[1].a.string\n",
    "            launch_dict['Version Booster'].append(bv)\n",
    "            \n",
    "            # Launch Site\n",
    "            launch_site = ''.join(list(row[2].strings)[0:3])\n",
    "            launch_site =  launch_site.replace(\",\", \" \")\n",
    "            launch_dict['Launch site'].append(launch_site)\n",
    "            \n",
    "            # Payload\n",
    "            payload = row[3].a.string\n",
    "            launch_dict['Payload'].append(payload)\n",
    "                    \n",
    "            # Payload Mass\n",
    "            payload_mass = get_mass(row[4])\n",
    "            launch_dict['Payload mass'].append(payload_mass)\n",
    "                    \n",
    "            # Orbit\n",
    "            orbit = row[5].a.string\n",
    "            launch_dict['Orbit'].append(orbit)\n",
    "                    \n",
    "            # Customer\n",
    "            try:\n",
    "                customer = row[6].a.string\n",
    "            except:\n",
    "                customer = 'NaN'\n",
    "            launch_dict['Customer'].append(customer)\n",
    "                    \n",
    "            # Launch outcome\n",
    "            launch_outcome = list(row[7].strings)[0]\n",
    "            launch_dict['Launch outcome'].append(launch_outcome)\n",
    "                      \n",
    "            # Booster landing\n",
    "            booster_landing = landing_status(row[8])\n",
    "            launch_dict['Booster landing'].append(booster_landing)\n",
    "            "
   ]
  },
  {
   "cell_type": "code",
   "execution_count": 109,
   "metadata": {},
   "outputs": [],
   "source": [
    "# need to extract rows from table to fill up launch_dict\n",
    "extracted_row = 0\n",
    "\n",
    "#Extract each table \n",
    "for table_number, table in enumerate(soup_2.find_all('table', \"wikitable plainrowheaders collapsible\")):\n",
    "\n",
    "    # get table row \n",
    "    for rows in table.find_all(\"tr\"):\n",
    "        \n",
    "        #check to see if first table heading is as number corresponding to launch \n",
    "        if rows.th:\n",
    "            if rows.th.string:\n",
    "                flight_number = rows.th.string.strip()\n",
    "                flag = flight_number.isdigit()\n",
    "        else:\n",
    "            flag = False\n",
    "\n",
    "        #get table element \n",
    "        row=rows.find_all('td')\n",
    "        \n",
    "        #if the first table heading is a launch number \n",
    "        if flag:\n",
    "            extracted_row += 1\n",
    "            \n",
    "            # Flight No.\n",
    "            launch_dict['Flight No.'].append(flight_number)\n",
    "            \n",
    "            # Date                        \n",
    "            datatimelist=date_time(row[0])\n",
    "            date = datatimelist[0].strip(',')\n",
    "            launch_dict['Date'].append(date)\n",
    "                        \n",
    "            # Time\n",
    "            time = datatimelist[1]\n",
    "            launch_dict['Time'].append(time)\n",
    "                                      \n",
    "            # Booster version\n",
    "            bv=booster_version(row[1])\n",
    "            if not(bv):\n",
    "                bv=row[1].a.string\n",
    "            launch_dict['Version Booster'].append(bv)\n",
    "            \n",
    "            # Launch Site\n",
    "            launch_site = ''.join(list(row[2].strings)[0:3])\n",
    "            launch_site =  launch_site.replace(\",\", \" \")\n",
    "            launch_dict['Launch site'].append(launch_site)\n",
    "            \n",
    "            # Payload\n",
    "            payload = row[3].a.string\n",
    "            launch_dict['Payload'].append(payload)\n",
    "                    \n",
    "            # Payload Mass\n",
    "            payload_mass = get_mass(row[4])\n",
    "            launch_dict['Payload mass'].append(payload_mass)\n",
    "                    \n",
    "            # Orbit\n",
    "            orbit = row[5].a.string\n",
    "            launch_dict['Orbit'].append(orbit)\n",
    "                    \n",
    "            # Customer\n",
    "            try:\n",
    "                customer = row[6].a.string\n",
    "            except:\n",
    "                customer = 'NaN'\n",
    "            launch_dict['Customer'].append(customer)\n",
    "                    \n",
    "            # Launch outcome\n",
    "            launch_outcome = list(row[7].strings)[0]\n",
    "            launch_dict['Launch outcome'].append(launch_outcome)\n",
    "                      \n",
    "            # Booster landing\n",
    "            booster_landing = landing_status(row[8])\n",
    "            launch_dict['Booster landing'].append(booster_landing)\n",
    "            "
   ]
  },
  {
   "cell_type": "code",
   "execution_count": 110,
   "metadata": {},
   "outputs": [
    {
     "data": {
      "text/plain": [
       "['4 June 2010',\n",
       " '8 December 2010',\n",
       " '22 May 2012',\n",
       " '8 October 2012',\n",
       " '1 March 2013',\n",
       " '29 September 2013',\n",
       " '3 December 2013',\n",
       " '6 January 2014',\n",
       " '18 April 2014',\n",
       " '14 July 2014',\n",
       " '5 August 2014',\n",
       " '7 September 2014',\n",
       " '21 September 2014',\n",
       " '10 January 2015',\n",
       " '11 February 2015',\n",
       " '2 March 2015',\n",
       " '14 April 2015',\n",
       " '27 April 2015',\n",
       " '28 June 2015',\n",
       " '22 December 2015',\n",
       " '17 January 2016',\n",
       " '4 March 2016',\n",
       " '8 April 2016',\n",
       " '6 May 2016',\n",
       " '27 May 2016',\n",
       " '15 June 2016',\n",
       " '18 July 2016',\n",
       " '14 August 2016',\n",
       " '14 January 2017',\n",
       " '19 February 2017',\n",
       " '16 March 2017',\n",
       " '30 March 2017',\n",
       " '1 May 2017',\n",
       " '15 May 2017',\n",
       " '3 June 2017',\n",
       " '23 June 2017',\n",
       " '25 June 2017',\n",
       " '5 July 2017',\n",
       " '14 August 2017',\n",
       " '24 August 2017',\n",
       " '7 September 2017',\n",
       " '9 October 2017',\n",
       " '11 October 2017',\n",
       " '30 October 2017',\n",
       " '15 December 2017',\n",
       " '23 December 2017',\n",
       " '8 January 2018',\n",
       " '31 January 2018',\n",
       " '22 February 2018',\n",
       " '6 March 2018',\n",
       " '30 March 2018',\n",
       " '2 April 2018',\n",
       " '18 April 2018',\n",
       " '11 May 2018',\n",
       " '22 May 2018',\n",
       " '4 June 2018',\n",
       " '29 June 2018',\n",
       " '22 July 2018',\n",
       " '25 July 2018',\n",
       " '7 August 2018',\n",
       " '10 September 2018',\n",
       " '8 October 2018',\n",
       " '15 November 2018',\n",
       " '3 December 2018',\n",
       " '5 December 2018',\n",
       " '23 December 2018',\n",
       " '11 January 2019',\n",
       " '22 February 2019',\n",
       " '2 March 2019',\n",
       " '4 May 2019',\n",
       " '24 May 2019',\n",
       " '12 June 2019',\n",
       " '25 July 2019',\n",
       " '6 August 2019',\n",
       " '11 November 2019',\n",
       " '5 December 2019',\n",
       " '17 December 2019',\n",
       " '7 January 2020',\n",
       " '19 January 2020',\n",
       " '29 January 2020',\n",
       " '17 February 2020',\n",
       " '7 March 2020',\n",
       " '18 March 2020',\n",
       " '22 April 2020',\n",
       " '30 May 2020',\n",
       " '4 June 2020',\n",
       " '13 June 2020',\n",
       " '30 June 2020',\n",
       " '20 July 2020',\n",
       " '7 August 2020',\n",
       " '18 August 2020',\n",
       " '30 August 2020',\n",
       " '3 September 2020',\n",
       " '6 October 2020',\n",
       " '18 October 2020',\n",
       " '24 October 2020',\n",
       " '5 November 2020',\n",
       " '16 November 2020',\n",
       " '21 November 2020',\n",
       " '25 November 2020',\n",
       " '6 December 2020',\n",
       " '13 December 2020',\n",
       " '19 December 2020',\n",
       " '8 January 2021',\n",
       " '20 January 2021',\n",
       " '24 January 2021',\n",
       " '4 February 2021',\n",
       " '16 February 2021',\n",
       " '4 March 2021',\n",
       " '11 March 2021',\n",
       " '14 March 2021',\n",
       " '24 March 2021',\n",
       " '7 April 2021',\n",
       " '23 April 2021',\n",
       " '29 April 2021',\n",
       " '4 May 2021',\n",
       " '9 May 2021',\n",
       " '15 May 2021',\n",
       " '26 May 2021',\n",
       " '3 June 2021',\n",
       " '6 June 2021',\n",
       " '17 June 2021',\n",
       " '30 June 2021',\n",
       " '29 August 2021',\n",
       " '14 September 2021',\n",
       " '16 September 2021',\n",
       " '11 November 2021',\n",
       " '13 November 2021',\n",
       " '24 November 2021',\n",
       " '2 December 2021',\n",
       " '9 December 2021',\n",
       " '18 December 2021',\n",
       " '19 December 2021',\n",
       " '21 December 2021',\n",
       " '6 January 2022',\n",
       " '13 January 2022',\n",
       " '19 January 2022',\n",
       " '31 January 2022',\n",
       " '2 February 2022',\n",
       " '3 February 2022',\n",
       " '21 February 2022',\n",
       " '25 February 2022',\n",
       " '3 March 2022',\n",
       " '9 March 2022',\n",
       " '19 March 2022',\n",
       " '1 April 2022',\n",
       " '8 April 2022',\n",
       " '17 April 2022',\n",
       " '21 April 2022',\n",
       " '27 April 2022',\n",
       " '29 April 2022',\n",
       " '6 May 2022',\n",
       " '13 May 2022',\n",
       " '14 May 2022',\n",
       " '18 May 2022',\n",
       " '25 May 2022',\n",
       " '8 June 2022',\n",
       " '17 June 2022',\n",
       " '18 June 2022',\n",
       " '19 June 2022',\n",
       " '29 June 2022',\n",
       " '7 July 2022',\n",
       " '11 July 2022',\n",
       " '15 July 2022',\n",
       " '17 July 2022',\n",
       " '22 July 2022',\n",
       " '24 July 2022',\n",
       " '4 August 2022',\n",
       " '10 August 2022',\n",
       " '12 August 2022',\n",
       " '19 August 2022',\n",
       " '28 August 2022',\n",
       " '31 August 2022',\n",
       " '5 September 2022',\n",
       " '11 September 2022',\n",
       " '19 September 2022',\n",
       " '24 September 2022',\n",
       " '5 October 2022',\n",
       " '5 October 2022',\n",
       " '8 October 2022',\n",
       " '15 October 2022',\n",
       " '20 October 2022',\n",
       " '28 October 2022',\n",
       " '3 November 2022',\n",
       " '12 November 2022',\n",
       " '23 November 2022',\n",
       " '26 November 2022',\n",
       " '8 December 2022',\n",
       " '11 December 2022',\n",
       " '16 December 2022',\n",
       " '16 December 2022',\n",
       " '17 December 2022',\n",
       " '28 December 2022',\n",
       " '30 December 2022',\n",
       " '3 January 2023',\n",
       " '10 January 2023',\n",
       " '18 January 2023',\n",
       " '19 January 2023',\n",
       " '26 January 2023',\n",
       " '31 January 2023',\n",
       " '2 February 2023',\n",
       " '7 February 2023',\n",
       " '12 February 2023',\n",
       " '17 February 2023',\n",
       " '18 February 2023',\n",
       " '27 February 2023',\n",
       " '2 March 2023',\n",
       " '3 March 2023',\n",
       " '9 March 2023',\n",
       " '15 March 2023',\n",
       " '17 March 2023',\n",
       " '17 March 2023',\n",
       " '24 March 2023',\n",
       " '29 March 2023',\n",
       " '2 April 2023',\n",
       " '7 April 2023',\n",
       " '15 April 2023',\n",
       " '19 April 2023',\n",
       " '27 April 2023',\n",
       " '28 April 2023',\n",
       " '4 May 2023',\n",
       " '10 May 2023',\n",
       " '14 May 2023',\n",
       " '19 May 2023',\n",
       " '20 May 2023',\n",
       " '21 May 2023',\n",
       " '27 May 2023',\n",
       " '31 May 2023',\n",
       " '4 June 2023',\n",
       " '5 June 2023',\n",
       " '12 June 2023',\n",
       " '12 June 2023']"
      ]
     },
     "execution_count": 110,
     "metadata": {},
     "output_type": "execute_result"
    }
   ],
   "source": [
    "launch_dict['Date']"
   ]
  },
  {
   "cell_type": "code",
   "execution_count": 111,
   "metadata": {
    "tags": []
   },
   "outputs": [
    {
     "name": "stdout",
     "output_type": "stream",
     "text": [
      "232\n",
      "232\n",
      "232\n",
      "232\n",
      "232\n",
      "232\n",
      "232\n",
      "232\n",
      "232\n",
      "232\n",
      "232\n"
     ]
    }
   ],
   "source": [
    "# check the dictionary length\n",
    "for key in launch_dict:\n",
    "    print(len(launch_dict[key]))"
   ]
  },
  {
   "cell_type": "code",
   "execution_count": 112,
   "metadata": {
    "tags": []
   },
   "outputs": [
    {
     "data": {
      "text/html": [
       "<div>\n",
       "<style scoped>\n",
       "    .dataframe tbody tr th:only-of-type {\n",
       "        vertical-align: middle;\n",
       "    }\n",
       "\n",
       "    .dataframe tbody tr th {\n",
       "        vertical-align: top;\n",
       "    }\n",
       "\n",
       "    .dataframe thead th {\n",
       "        text-align: right;\n",
       "    }\n",
       "</style>\n",
       "<table border=\"1\" class=\"dataframe\">\n",
       "  <thead>\n",
       "    <tr style=\"text-align: right;\">\n",
       "      <th></th>\n",
       "      <th>Flight No.</th>\n",
       "      <th>Launch site</th>\n",
       "      <th>Payload</th>\n",
       "      <th>Payload mass</th>\n",
       "      <th>Orbit</th>\n",
       "      <th>Customer</th>\n",
       "      <th>Launch outcome</th>\n",
       "      <th>Version Booster</th>\n",
       "      <th>Booster landing</th>\n",
       "      <th>Date</th>\n",
       "      <th>Time</th>\n",
       "    </tr>\n",
       "  </thead>\n",
       "  <tbody>\n",
       "    <tr>\n",
       "      <th>227</th>\n",
       "      <td>228</td>\n",
       "      <td>VSFB SLC-4E</td>\n",
       "      <td>Starlink Group 2-10</td>\n",
       "      <td>~16,400 kg</td>\n",
       "      <td>LEO</td>\n",
       "      <td>SpaceX</td>\n",
       "      <td>Success\\n</td>\n",
       "      <td>F9 B5</td>\n",
       "      <td>Success</td>\n",
       "      <td>31 May 2023</td>\n",
       "      <td>06:02</td>\n",
       "    </tr>\n",
       "    <tr>\n",
       "      <th>228</th>\n",
       "      <td>229</td>\n",
       "      <td>CCSFS SLC-40</td>\n",
       "      <td>Starlink Group 6-4</td>\n",
       "      <td>~17,600 kg</td>\n",
       "      <td>LEO</td>\n",
       "      <td>SpaceX</td>\n",
       "      <td>Success\\n</td>\n",
       "      <td>F9 B5</td>\n",
       "      <td>Success</td>\n",
       "      <td>4 June 2023</td>\n",
       "      <td>12:20</td>\n",
       "    </tr>\n",
       "    <tr>\n",
       "      <th>229</th>\n",
       "      <td>230</td>\n",
       "      <td>KSC LC-39A</td>\n",
       "      <td>SpaceX CRS-28</td>\n",
       "      <td>~9,525 kg</td>\n",
       "      <td>LEO</td>\n",
       "      <td>NASA</td>\n",
       "      <td>Success\\n</td>\n",
       "      <td>F9 B5B1077.5</td>\n",
       "      <td>Success</td>\n",
       "      <td>5 June 2023</td>\n",
       "      <td>15:47</td>\n",
       "    </tr>\n",
       "    <tr>\n",
       "      <th>230</th>\n",
       "      <td>231</td>\n",
       "      <td>CCSFS SLC-40</td>\n",
       "      <td>Starlink Group 5-11</td>\n",
       "      <td>~16,400 kg</td>\n",
       "      <td>LEO</td>\n",
       "      <td>SpaceX</td>\n",
       "      <td>Success\\n</td>\n",
       "      <td>F9 B5</td>\n",
       "      <td>Success</td>\n",
       "      <td>12 June 2023</td>\n",
       "      <td>07:10</td>\n",
       "    </tr>\n",
       "    <tr>\n",
       "      <th>231</th>\n",
       "      <td>232</td>\n",
       "      <td>VSFB SLC-4E</td>\n",
       "      <td>None</td>\n",
       "      <td>U</td>\n",
       "      <td>SSO</td>\n",
       "      <td>NaN</td>\n",
       "      <td>Success\\n</td>\n",
       "      <td>F9 B5</td>\n",
       "      <td>Success</td>\n",
       "      <td>12 June 2023</td>\n",
       "      <td>21:35</td>\n",
       "    </tr>\n",
       "  </tbody>\n",
       "</table>\n",
       "</div>"
      ],
      "text/plain": [
       "    Flight No.   Launch site              Payload Payload mass Orbit Customer  \\\n",
       "227        228   VSFB SLC-4E  Starlink Group 2-10   ~16,400 kg   LEO   SpaceX   \n",
       "228        229  CCSFS SLC-40   Starlink Group 6-4   ~17,600 kg   LEO   SpaceX   \n",
       "229        230    KSC LC-39A        SpaceX CRS-28    ~9,525 kg   LEO     NASA   \n",
       "230        231  CCSFS SLC-40  Starlink Group 5-11   ~16,400 kg   LEO   SpaceX   \n",
       "231        232   VSFB SLC-4E                 None            U   SSO      NaN   \n",
       "\n",
       "    Launch outcome Version Booster Booster landing          Date   Time  \n",
       "227      Success\\n           F9 B5         Success   31 May 2023  06:02  \n",
       "228      Success\\n           F9 B5         Success   4 June 2023  12:20  \n",
       "229      Success\\n    F9 B5B1077.5         Success   5 June 2023  15:47  \n",
       "230      Success\\n           F9 B5         Success  12 June 2023  07:10  \n",
       "231      Success\\n           F9 B5         Success  12 June 2023  21:35  "
      ]
     },
     "execution_count": 112,
     "metadata": {},
     "output_type": "execute_result"
    }
   ],
   "source": [
    "# convert to pandas dataframe\n",
    "df=pd.DataFrame(launch_dict)\n",
    "df.tail()"
   ]
  },
  {
   "cell_type": "code",
   "execution_count": 120,
   "metadata": {},
   "outputs": [
    {
     "data": {
      "text/html": [
       "<div>\n",
       "<style scoped>\n",
       "    .dataframe tbody tr th:only-of-type {\n",
       "        vertical-align: middle;\n",
       "    }\n",
       "\n",
       "    .dataframe tbody tr th {\n",
       "        vertical-align: top;\n",
       "    }\n",
       "\n",
       "    .dataframe thead th {\n",
       "        text-align: right;\n",
       "    }\n",
       "</style>\n",
       "<table border=\"1\" class=\"dataframe\">\n",
       "  <thead>\n",
       "    <tr style=\"text-align: right;\">\n",
       "      <th></th>\n",
       "      <th>Flight No.</th>\n",
       "      <th>Launch site</th>\n",
       "      <th>Payload</th>\n",
       "      <th>Payload mass</th>\n",
       "      <th>Orbit</th>\n",
       "      <th>Customer</th>\n",
       "      <th>Launch outcome</th>\n",
       "      <th>Version Booster</th>\n",
       "      <th>Booster landing</th>\n",
       "      <th>Date</th>\n",
       "      <th>Time</th>\n",
       "    </tr>\n",
       "  </thead>\n",
       "  <tbody>\n",
       "    <tr>\n",
       "      <th>227</th>\n",
       "      <td>228</td>\n",
       "      <td>VSFB SLC-4E</td>\n",
       "      <td>Starlink Group 2-10</td>\n",
       "      <td>~16,400 kg</td>\n",
       "      <td>LEO</td>\n",
       "      <td>SpaceX</td>\n",
       "      <td>Success\\n</td>\n",
       "      <td>F9 B5</td>\n",
       "      <td>Success</td>\n",
       "      <td>2023-05-31</td>\n",
       "      <td>06:02</td>\n",
       "    </tr>\n",
       "    <tr>\n",
       "      <th>228</th>\n",
       "      <td>229</td>\n",
       "      <td>CCSFS SLC-40</td>\n",
       "      <td>Starlink Group 6-4</td>\n",
       "      <td>~17,600 kg</td>\n",
       "      <td>LEO</td>\n",
       "      <td>SpaceX</td>\n",
       "      <td>Success\\n</td>\n",
       "      <td>F9 B5</td>\n",
       "      <td>Success</td>\n",
       "      <td>2023-06-04</td>\n",
       "      <td>12:20</td>\n",
       "    </tr>\n",
       "    <tr>\n",
       "      <th>229</th>\n",
       "      <td>230</td>\n",
       "      <td>KSC LC-39A</td>\n",
       "      <td>SpaceX CRS-28</td>\n",
       "      <td>~9,525 kg</td>\n",
       "      <td>LEO</td>\n",
       "      <td>NASA</td>\n",
       "      <td>Success\\n</td>\n",
       "      <td>F9 B5B1077.5</td>\n",
       "      <td>Success</td>\n",
       "      <td>2023-06-05</td>\n",
       "      <td>15:47</td>\n",
       "    </tr>\n",
       "    <tr>\n",
       "      <th>230</th>\n",
       "      <td>231</td>\n",
       "      <td>CCSFS SLC-40</td>\n",
       "      <td>Starlink Group 5-11</td>\n",
       "      <td>~16,400 kg</td>\n",
       "      <td>LEO</td>\n",
       "      <td>SpaceX</td>\n",
       "      <td>Success\\n</td>\n",
       "      <td>F9 B5</td>\n",
       "      <td>Success</td>\n",
       "      <td>2023-06-12</td>\n",
       "      <td>07:10</td>\n",
       "    </tr>\n",
       "    <tr>\n",
       "      <th>231</th>\n",
       "      <td>232</td>\n",
       "      <td>VSFB SLC-4E</td>\n",
       "      <td>None</td>\n",
       "      <td>U</td>\n",
       "      <td>SSO</td>\n",
       "      <td>NaN</td>\n",
       "      <td>Success\\n</td>\n",
       "      <td>F9 B5</td>\n",
       "      <td>Success</td>\n",
       "      <td>2023-06-12</td>\n",
       "      <td>21:35</td>\n",
       "    </tr>\n",
       "  </tbody>\n",
       "</table>\n",
       "</div>"
      ],
      "text/plain": [
       "    Flight No.   Launch site              Payload Payload mass Orbit Customer  \\\n",
       "227        228   VSFB SLC-4E  Starlink Group 2-10   ~16,400 kg   LEO   SpaceX   \n",
       "228        229  CCSFS SLC-40   Starlink Group 6-4   ~17,600 kg   LEO   SpaceX   \n",
       "229        230    KSC LC-39A        SpaceX CRS-28    ~9,525 kg   LEO     NASA   \n",
       "230        231  CCSFS SLC-40  Starlink Group 5-11   ~16,400 kg   LEO   SpaceX   \n",
       "231        232   VSFB SLC-4E                 None            U   SSO      NaN   \n",
       "\n",
       "    Launch outcome Version Booster Booster landing        Date   Time  \n",
       "227      Success\\n           F9 B5         Success  2023-05-31  06:02  \n",
       "228      Success\\n           F9 B5         Success  2023-06-04  12:20  \n",
       "229      Success\\n    F9 B5B1077.5         Success  2023-06-05  15:47  \n",
       "230      Success\\n           F9 B5         Success  2023-06-12  07:10  \n",
       "231      Success\\n           F9 B5         Success  2023-06-12  21:35  "
      ]
     },
     "execution_count": 120,
     "metadata": {},
     "output_type": "execute_result"
    }
   ],
   "source": [
    "import datetime\n",
    "\n",
    "# convert date to date formate\n",
    "df['Date'] = pd.to_datetime(df['Date']).dt.date\n",
    "df.tail()"
   ]
  },
  {
   "cell_type": "code",
   "execution_count": 121,
   "metadata": {},
   "outputs": [
    {
     "data": {
      "text/plain": [
       "array(['F9 v1.0 ', 'F9 v1.1 ', 'F9 v1.1', 'F9 v1.1B1011', 'F9 v1.1B1010',\n",
       "       'F9 v1.1B1012', 'F9 v1.1B1013', 'F9 v1.1B1014', 'F9 v1.1B1015',\n",
       "       'F9 v1.1B1016', 'F9 v1.1B1018', 'F9 FTB1019', 'F9 v1.1B1017',\n",
       "       'F9 FTB1020', 'F9 FTB1021.1', 'F9 FTB1022', 'F9 FTB1023.1',\n",
       "       'F9 FTB1024', 'F9 FTB1025.1', 'F9 FTB1026', 'F9 FTB1029.1',\n",
       "       'F9 FTB1031.1', 'F9 FTB1030', 'F9 FT♺', 'F9 FTB1032.1',\n",
       "       'F9 FTB1034.1', 'F9 FTB1035.1', 'F9 FTB1029.2', 'F9 FTB1036.1',\n",
       "       'F9 FTB1037.1', 'F9 B4B1039.1', 'F9 FTB1038.1', 'F9 B4B1040.1',\n",
       "       'F9 B4B1041.1', 'F9 FTB1031.2', 'F9 B4B1042.1', 'F9 FTB1035.2',\n",
       "       'F9 FTB1036.2', 'F9 B4', 'F9 FTB1032.2', 'F9 FTB1038.2',\n",
       "       'F9 B4B1044.1', 'F9 B4B1041.2', 'F9 B4B1039.2', 'F9 B4B1045.1',\n",
       "       'F9 B5B1046.1', 'F9 B4B1043.2', 'F9 B4B1040.2', 'F9 B4B1045.2',\n",
       "       'F9 B5', 'F9 B5B1048', 'F9 B5B1046.2', 'F9 B5B1049.1',\n",
       "       'F9 B5B1048.2', 'F9 B5B1047.2', 'F9 B5B1046.3 ', 'F9 B5B1050',\n",
       "       'F9 B5B1054', 'F9 B5B1049.2', 'F9 B5B1048.3', 'F9 B5B1051.1',\n",
       "       'F9 B5B1056.1', 'F9 B5B1049.3', 'F9 B5B1051.2', 'F9 B5B1056.2',\n",
       "       'F9 B5B1047.3', 'F9 B5B1059.1', 'F9 B5B1056.3', 'F9 B5B1058.1',\n",
       "       'F9 B5B1058.2', 'F9 B5B1049.6', 'F9 B5B1060.2', 'F9 B5B1058.3',\n",
       "       'F9 B5B1051.6', 'F9 B5B1061.1', 'F9 B5B1049.7', 'F9 B5B1058.4',\n",
       "       'F9 B5B1051.8', 'F9 B5B1058.5', 'F9 B5B1060.5', 'F9 B5B1049.8',\n",
       "       'F9 B5B1058.6', 'F9 B5B1060.6', 'F9 B5B1061.2', 'F9 B5B1060.7',\n",
       "       'F9 B5B1049.9', 'F9 B5B1051.10', 'F9 B5B1067.1', 'F9 B5B1062.2',\n",
       "       'F9 B5B1049.10', 'F9 B5B1062.3', 'F9 B5B1067.2', 'F9 B5B1058.9',\n",
       "       'F9 B5B1063.3', 'F9 B5B1060.9', 'F9 B5B1052.4', 'F9 B5B1067.4',\n",
       "       'F9 B5B1061.8', 'F9 B5B1062.7', 'F9 B5B1060.13', 'F9 B5B1061.9',\n",
       "       'F9 B5B1073.2', 'F9 B5B1058.13', 'F9 B5B1051.13', 'F9 B5B1073.3',\n",
       "       'F9 B5B1069.2', 'F9 B5B1067.6', 'F9 B5B1073.4', 'F9 B5B1060.14',\n",
       "       'F9 B5B1062.10', 'F9 B5B1049.11', 'F9 B5 ', 'F9 B5B1060.15',\n",
       "       'F9 B5B1071.7', 'F9 B5B1073.6', 'F9 B5B1062.12', 'F9 B5B1063.9',\n",
       "       'F9 B5B1077.3', 'F9 B5B1076.3', 'F9 B5B1073.7', 'F9 B5B1078.2',\n",
       "       'F9 B5B1069.7', 'F9 B5B1075.3', 'F9 B5B1077.5'], dtype=object)"
      ]
     },
     "execution_count": 121,
     "metadata": {},
     "output_type": "execute_result"
    }
   ],
   "source": [
    "# check what type of rockets are included in the data frame\n",
    "df['Version Booster'].unique()"
   ]
  },
  {
   "cell_type": "code",
   "execution_count": 122,
   "metadata": {
    "tags": []
   },
   "outputs": [
    {
     "data": {
      "text/plain": [
       "Flight No.         0\n",
       "Launch site        0\n",
       "Payload            7\n",
       "Payload mass       0\n",
       "Orbit              1\n",
       "Customer           1\n",
       "Launch outcome     0\n",
       "Version Booster    0\n",
       "Booster landing    0\n",
       "Date               0\n",
       "Time               0\n",
       "dtype: int64"
      ]
     },
     "execution_count": 122,
     "metadata": {},
     "output_type": "execute_result"
    }
   ],
   "source": [
    "df.isnull().sum()"
   ]
  },
  {
   "cell_type": "markdown",
   "metadata": {},
   "source": [
    "## 2.5. Export Data"
   ]
  },
  {
   "cell_type": "code",
   "execution_count": 123,
   "metadata": {},
   "outputs": [],
   "source": [
    "df.to_csv('dataset_scraped.csv', index=False)"
   ]
  },
  {
   "cell_type": "code",
   "execution_count": 124,
   "metadata": {},
   "outputs": [],
   "source": [
    "df.to_excel('dataset_scraped.xlsx', index=False)"
   ]
  },
  {
   "cell_type": "code",
   "execution_count": null,
   "metadata": {},
   "outputs": [],
   "source": []
  }
 ],
 "metadata": {
  "kernelspec": {
   "display_name": "Python 3 (ipykernel)",
   "language": "python",
   "name": "python3"
  },
  "language_info": {
   "codemirror_mode": {
    "name": "ipython",
    "version": 3
   },
   "file_extension": ".py",
   "mimetype": "text/x-python",
   "name": "python",
   "nbconvert_exporter": "python",
   "pygments_lexer": "ipython3",
   "version": "3.10.9"
  }
 },
 "nbformat": 4,
 "nbformat_minor": 4
}
